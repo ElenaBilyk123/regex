{
 "cells": [
  {
   "cell_type": "code",
   "execution_count": 5,
   "metadata": {},
   "outputs": [
    {
     "name": "stdout",
     "output_type": "stream",
     "text": [
      "[['lastname', 'firstname', 'surname', 'organization', 'position', 'phone', 'email'], ['Усольцев', 'Олег', 'Валентинович', 'ФНС', 'главный специалист – эксперт отдела взаимодействия с федеральными органами власти Управления налогообложения имущества и доходов физических лиц', '+7(495)913-04-78 ', 'opendata@nalog.ru'], ['Мартиняхин', 'Виталий', 'Геннадьевич', 'ФНС', 'cоветник отдела Интернет проектов Управления информационных технологий', '+7(495)913-00-37 ', ''], ['Наркаев', 'Вячеслав', 'Рифхатович', 'ФНС', '', '+7(495)913-01-68 ', ''], ['Лукина', 'Ольга', 'Владимировна', 'Минфин', '', '+7(495)983-36-99 доб.2926', 'Olga.Lukina@minfin.ru'], ['Паньшин', 'Алексей', 'Владимирович', 'Минфин', '', '+7(495)748-49-73 ', '1248@minfin.ru'], ['Лагунцов', 'Иван', 'Алексеевич', 'Минфин', '', '+7(495)913-11-11 доб.0792', 'Ivan.Laguntcov@minfin.ru']]\n"
     ]
    }
   ],
   "source": [
    "from pprint import pprint\n",
    "import re\n",
    "import csv\n",
    "\n",
    "my_file = 'phonebook_raw.csv'\n",
    "Phone_Pattern = r'(\\+7|8)*[\\s\\(]*(\\d{3})[\\)\\s-]*(\\d{3})[-]*(\\d{2})[-]*(\\d{2})[\\s\\(]*(доб\\.)*[\\s]*(\\d+)*[\\)]*'\n",
    "Sub_Phone = r'+7(\\2)\\3-\\4-\\5 \\6\\7'\n",
    "\n",
    "with open(my_file, encoding='utf-8') as f:\n",
    "    rows = csv.reader(f, delimiter=\",\")\n",
    "    contacts_list = list(rows)\n",
    "#print(contacts_list)\n",
    "\n",
    "def primal(names: list):\n",
    "    new_list = list()\n",
    "    for item in names:\n",
    "        full_name = ' '.join(item[:3]).split(' ')\n",
    "        result = [full_name[0], full_name[1], full_name[2], item[3], item[4],\n",
    "                  re.sub(Phone_Pattern, Sub_Phone, item[5]),\n",
    "                  item[6]]\n",
    "        new_list.append(result)\n",
    "    return union(new_list)\n",
    "\n",
    "\n",
    "def union(names2: list):\n",
    "   \n",
    "    for contact in names2:\n",
    "        first_name = contact[0]\n",
    "        last_name = contact[1]\n",
    "        for new_contact in names2:\n",
    "            new_first_name = new_contact[0]\n",
    "            new_last_name = new_contact[1]\n",
    "            if first_name == new_first_name and last_name == new_last_name:\n",
    "                if contact[2] == \"\": contact[2] = new_contact[2]\n",
    "                if contact[3] == \"\": contact[3] = new_contact[3]\n",
    "                if contact[4] == \"\": contact[4] = new_contact[4]\n",
    "                if contact[5] == \"\": contact[5] = new_contact[5]\n",
    "                if contact[6] == \"\": contact[6] = new_contact[6]\n",
    "\n",
    "    result_list = list()\n",
    "    for i in names2:\n",
    "        if i not in result_list:\n",
    "            result_list.append(i)\n",
    "\n",
    "    return result_list\n",
    "\n",
    "print(primal(contacts_list))\n",
    "\n",
    "\n",
    "# код для записи файла в формате CSV\n",
    "with open(\"phonebook.csv\", \"w\", encoding=\"utf-8\") as f:\n",
    "    datawriter = csv.writer(f, delimiter=',')\n",
    "    datawriter.writerows(primal(contacts_list))\n",
    "    \n",
    "    \n",
    "\n",
    "    \n"
   ]
  }
 ],
 "metadata": {
  "kernelspec": {
   "display_name": "Python 3.10.8 64-bit (microsoft store)",
   "language": "python",
   "name": "python3"
  },
  "language_info": {
   "codemirror_mode": {
    "name": "ipython",
    "version": 3
   },
   "file_extension": ".py",
   "mimetype": "text/x-python",
   "name": "python",
   "nbconvert_exporter": "python",
   "pygments_lexer": "ipython3",
   "version": "3.10.8"
  },
  "orig_nbformat": 4,
  "vscode": {
   "interpreter": {
    "hash": "c3ce484dc0371570517117a5acba8125c9b15d07d7ab7d4833a3fd71e1bde6a3"
   }
  }
 },
 "nbformat": 4,
 "nbformat_minor": 2
}
